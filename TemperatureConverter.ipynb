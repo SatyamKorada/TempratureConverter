{
 "cells": [
  {
   "cell_type": "code",
   "execution_count": 1,
   "id": "8671f050",
   "metadata": {},
   "outputs": [
    {
     "name": "stdout",
     "output_type": "stream",
     "text": [
      "Enter the temperature value: 25\n",
      "Enter the unit of the temperature (C, F, K): c\n",
      "Temperature in Celsius: 25.00 °C\n",
      "Temperature in Fahrenheit: 77.00 °F\n",
      "Temperature in Kelvin: 298.15 K\n"
     ]
    }
   ],
   "source": [
    "#Task1 Prodigy Software Development\n",
    "def celsius_to_fahrenheit(celsius):\n",
    "    return celsius * 9/5 + 32\n",
    "def celsius_to_kelvin(celsius):\n",
    "    return celsius + 273.15\n",
    "def fahrenheit_to_celsius(fahrenheit):\n",
    "    return (fahrenheit - 32) * 5/9\n",
    "def fahrenheit_to_kelvin(fahrenheit):\n",
    "    return fahrenheit_to_celsius(fahrenheit) + 273.15\n",
    "def kelvin_to_celsius(kelvin):\n",
    "    return kelvin - 273.15\n",
    "def kelvin_to_fahrenheit(kelvin):\n",
    "    return celsius_to_fahrenheit(kelvin_to_celsius(kelvin))\n",
    "def convert_temperature(value, unit):\n",
    "    if unit == 'C':\n",
    "        celsius = value\n",
    "        fahrenheit = celsius_to_fahrenheit(celsius)\n",
    "        kelvin = celsius_to_kelvin(celsius)\n",
    "    elif unit == 'F':\n",
    "        fahrenheit = value\n",
    "        celsius = fahrenheit_to_celsius(fahrenheit)\n",
    "        kelvin = fahrenheit_to_kelvin(fahrenheit)\n",
    "    elif unit == 'K':\n",
    "        kelvin = value\n",
    "        celsius = kelvin_to_celsius(kelvin)\n",
    "        fahrenheit = kelvin_to_fahrenheit(kelvin)\n",
    "    else:\n",
    "        raise ValueError(\"Invalid unit of measurement. Please enter 'C', 'F', or 'K'.\")\n",
    "    return celsius, fahrenheit, kelvin\n",
    "def main():\n",
    "    value = float(input(\"Enter the temperature value: \"))\n",
    "    unit = input(\"Enter the unit of the temperature (C, F, K): \").strip().upper()\n",
    "    try:\n",
    "        celsius, fahrenheit, kelvin = convert_temperature(value, unit)\n",
    "        print(f\"Temperature in Celsius: {celsius:.2f} °C\")\n",
    "        print(f\"Temperature in Fahrenheit: {fahrenheit:.2f} °F\")\n",
    "        print(f\"Temperature in Kelvin: {kelvin:.2f} K\")\n",
    "    except ValueError as e:\n",
    "        print(e)\n",
    "\n",
    "if __name__ == \"__main__\":\n",
    "    main()"
   ]
  },
  {
   "cell_type": "code",
   "execution_count": null,
   "id": "409f78b9",
   "metadata": {},
   "outputs": [],
   "source": []
  }
 ],
 "metadata": {
  "kernelspec": {
   "display_name": "Python 3 (ipykernel)",
   "language": "python",
   "name": "python3"
  },
  "language_info": {
   "codemirror_mode": {
    "name": "ipython",
    "version": 3
   },
   "file_extension": ".py",
   "mimetype": "text/x-python",
   "name": "python",
   "nbconvert_exporter": "python",
   "pygments_lexer": "ipython3",
   "version": "3.11.5"
  }
 },
 "nbformat": 4,
 "nbformat_minor": 5
}
